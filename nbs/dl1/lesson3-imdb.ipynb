{
 "cells": [
  {
   "cell_type": "markdown",
   "metadata": {},
   "source": [
    "# IMDB"
   ]
  },
  {
   "cell_type": "code",
   "execution_count": 1,
   "metadata": {},
   "outputs": [],
   "source": [
    "%reload_ext autoreload\n",
    "%autoreload 2\n",
    "%matplotlib inline"
   ]
  },
  {
   "cell_type": "code",
   "execution_count": 2,
   "metadata": {},
   "outputs": [],
   "source": [
    "from fastai.text import *"
   ]
  },
  {
   "cell_type": "markdown",
   "metadata": {},
   "source": [
    "## Preparing the data"
   ]
  },
  {
   "cell_type": "markdown",
   "metadata": {},
   "source": [
    "First let's download the dataset we are going to study. The [dataset](http://ai.stanford.edu/~amaas/data/sentiment/) has been curated by Andrew Maas et al. and contains a total of 100,000 reviews on IMDB. 25,000 of them are labelled as positive and negative for training, another 25,000 are labelled for testing (in both cases they are highly polarized). The remaning 50,000 is an additional unlabelled data (but we will find a use for it nonetheless).\n",
    "\n",
    "We'll begin with a sample we've prepared for you, so that things run quickly before going over the full dataset."
   ]
  },
  {
   "cell_type": "code",
   "execution_count": 3,
   "metadata": {},
   "outputs": [
    {
     "data": {
      "text/plain": [
       "[PosixPath('/storage/imdb_sample/texts.csv')]"
      ]
     },
     "execution_count": 3,
     "metadata": {},
     "output_type": "execute_result"
    }
   ],
   "source": [
    "path = untar_data(URLs.IMDB_SAMPLE)\n",
    "path.ls()"
   ]
  },
  {
   "cell_type": "markdown",
   "metadata": {},
   "source": [
    "It only contains one csv file, let's have a look at it."
   ]
  },
  {
   "cell_type": "code",
   "execution_count": 4,
   "metadata": {},
   "outputs": [
    {
     "data": {
      "text/html": [
       "<div>\n",
       "<style scoped>\n",
       "    .dataframe tbody tr th:only-of-type {\n",
       "        vertical-align: middle;\n",
       "    }\n",
       "\n",
       "    .dataframe tbody tr th {\n",
       "        vertical-align: top;\n",
       "    }\n",
       "\n",
       "    .dataframe thead th {\n",
       "        text-align: right;\n",
       "    }\n",
       "</style>\n",
       "<table border=\"1\" class=\"dataframe\">\n",
       "  <thead>\n",
       "    <tr style=\"text-align: right;\">\n",
       "      <th></th>\n",
       "      <th>label</th>\n",
       "      <th>text</th>\n",
       "      <th>is_valid</th>\n",
       "    </tr>\n",
       "  </thead>\n",
       "  <tbody>\n",
       "    <tr>\n",
       "      <th>0</th>\n",
       "      <td>negative</td>\n",
       "      <td>Un-bleeping-believable! Meg Ryan doesn't even ...</td>\n",
       "      <td>False</td>\n",
       "    </tr>\n",
       "    <tr>\n",
       "      <th>1</th>\n",
       "      <td>positive</td>\n",
       "      <td>This is a extremely well-made film. The acting...</td>\n",
       "      <td>False</td>\n",
       "    </tr>\n",
       "    <tr>\n",
       "      <th>2</th>\n",
       "      <td>negative</td>\n",
       "      <td>Every once in a long while a movie will come a...</td>\n",
       "      <td>False</td>\n",
       "    </tr>\n",
       "    <tr>\n",
       "      <th>3</th>\n",
       "      <td>positive</td>\n",
       "      <td>Name just says it all. I watched this movie wi...</td>\n",
       "      <td>False</td>\n",
       "    </tr>\n",
       "    <tr>\n",
       "      <th>4</th>\n",
       "      <td>negative</td>\n",
       "      <td>This movie succeeds at being one of the most u...</td>\n",
       "      <td>False</td>\n",
       "    </tr>\n",
       "  </tbody>\n",
       "</table>\n",
       "</div>"
      ],
      "text/plain": [
       "      label                                               text  is_valid\n",
       "0  negative  Un-bleeping-believable! Meg Ryan doesn't even ...     False\n",
       "1  positive  This is a extremely well-made film. The acting...     False\n",
       "2  negative  Every once in a long while a movie will come a...     False\n",
       "3  positive  Name just says it all. I watched this movie wi...     False\n",
       "4  negative  This movie succeeds at being one of the most u...     False"
      ]
     },
     "execution_count": 4,
     "metadata": {},
     "output_type": "execute_result"
    }
   ],
   "source": [
    "df = pd.read_csv(path/'texts.csv')\n",
    "df.head()"
   ]
  },
  {
   "cell_type": "code",
   "execution_count": 5,
   "metadata": {},
   "outputs": [
    {
     "data": {
      "text/plain": [
       "'This is a extremely well-made film. The acting, script and camera-work are all first-rate. The music is good, too, though it is mostly early in the film, when things are still relatively cheery. There are no really superstars in the cast, though several faces will be familiar. The entire cast does an excellent job with the script.<br /><br />But it is hard to watch, because there is no good end to a situation like the one presented. It is now fashionable to blame the British for setting Hindus and Muslims against each other, and then cruelly separating them into two countries. There is some merit in this view, but it\\'s also true that no one forced Hindus and Muslims in the region to mistreat each other as they did around the time of partition. It seems more likely that the British simply saw the tensions between the religions and were clever enough to exploit them to their own ends.<br /><br />The result is that there is much cruelty and inhumanity in the situation and this is very unpleasant to remember and to see on the screen. But it is never painted as a black-and-white case. There is baseness and nobility on both sides, and also the hope for change in the younger generation.<br /><br />There is redemption of a sort, in the end, when Puro has to make a hard choice between a man who has ruined her life, but also truly loved her, and her family which has disowned her, then later come looking for her. But by that point, she has no option that is without great pain for her.<br /><br />This film carries the message that both Muslims and Hindus have their grave faults, and also that both can be dignified and caring people. The reality of partition makes that realisation all the more wrenching, since there can never be real reconciliation across the India/Pakistan border. In that sense, it is similar to \"Mr & Mrs Iyer\".<br /><br />In the end, we were glad to have seen the film, even though the resolution was heartbreaking. If the UK and US could deal with their own histories of racism with this kind of frankness, they would certainly be better off.'"
      ]
     },
     "execution_count": 5,
     "metadata": {},
     "output_type": "execute_result"
    }
   ],
   "source": [
    "df['text'][1]"
   ]
  },
  {
   "cell_type": "markdown",
   "metadata": {},
   "source": [
    "It contains one line per review, with the label ('negative' or 'positive'), the text and a flag to determine if it should be part of the validation set or the training set. If we ignore this flag, we can create a DataBunch containing this data in one line of code:"
   ]
  },
  {
   "cell_type": "code",
   "execution_count": 6,
   "metadata": {},
   "outputs": [
    {
     "data": {
      "text/html": [],
      "text/plain": [
       "<IPython.core.display.HTML object>"
      ]
     },
     "metadata": {},
     "output_type": "display_data"
    },
    {
     "data": {
      "text/html": [],
      "text/plain": [
       "<IPython.core.display.HTML object>"
      ]
     },
     "metadata": {},
     "output_type": "display_data"
    }
   ],
   "source": [
    "data_lm = TextDataBunch.from_csv(path, 'texts.csv')"
   ]
  },
  {
   "cell_type": "markdown",
   "metadata": {},
   "source": [
    "By executing this line a process was launched that took a bit of time. Let's dig a bit into it. Images could be fed (almost) directly into a model because they're just a big array of pixel values that are floats between 0 and 1. A text is composed of words, and we can't apply mathematical functions to them directly. We first have to convert them to numbers. This is done in two differents steps: tokenization and numericalization. A `TextDataBunch` does all of that behind the scenes for you.\n",
    "\n",
    "Before we delve into the explanations, let's take the time to save the things that were calculated."
   ]
  },
  {
   "cell_type": "code",
   "execution_count": 7,
   "metadata": {},
   "outputs": [],
   "source": [
    "data_lm.save()"
   ]
  },
  {
   "cell_type": "markdown",
   "metadata": {},
   "source": [
    "Next time we launch this notebook, we can skip the cell above that took a bit of time (and that will take a lot more when you get to the full dataset) and load those results like this:"
   ]
  },
  {
   "cell_type": "code",
   "execution_count": 8,
   "metadata": {},
   "outputs": [],
   "source": [
    "data = load_data(path)"
   ]
  },
  {
   "cell_type": "markdown",
   "metadata": {},
   "source": [
    "### Tokenization"
   ]
  },
  {
   "cell_type": "markdown",
   "metadata": {},
   "source": [
    "The first step of processing we make the texts go through is to split the raw sentences into words, or more exactly tokens. The easiest way to do this would be to split the string on spaces, but we can be smarter:\n",
    "\n",
    "- we need to take care of punctuation\n",
    "- some words are contractions of two different words, like isn't or don't\n",
    "- we may need to clean some parts of our texts, if there's HTML code for instance\n",
    "\n",
    "To see what the tokenizer had done behind the scenes, let's have a look at a few texts in a batch."
   ]
  },
  {
   "cell_type": "code",
   "execution_count": 9,
   "metadata": {},
   "outputs": [
    {
     "data": {
      "text/html": [],
      "text/plain": [
       "<IPython.core.display.HTML object>"
      ]
     },
     "metadata": {},
     "output_type": "display_data"
    },
    {
     "data": {
      "text/html": [],
      "text/plain": [
       "<IPython.core.display.HTML object>"
      ]
     },
     "metadata": {},
     "output_type": "display_data"
    },
    {
     "data": {
      "text/html": [
       "<table border=\"1\" class=\"dataframe\">\n",
       "  <thead>\n",
       "    <tr style=\"text-align: right;\">\n",
       "      <th>text</th>\n",
       "      <th>target</th>\n",
       "    </tr>\n",
       "  </thead>\n",
       "  <tbody>\n",
       "    <tr>\n",
       "      <td>xxbos xxmaj raising xxmaj victor xxmaj vargas : a xxmaj review \\n \\n  xxmaj you know , xxmaj raising xxmaj victor xxmaj vargas is like sticking your hands into a big , steaming bowl of xxunk . xxmaj it 's warm and gooey , but you 're not sure if it feels right . xxmaj try as i might , no matter how warm and gooey xxmaj raising xxmaj</td>\n",
       "      <td>negative</td>\n",
       "    </tr>\n",
       "    <tr>\n",
       "      <td>xxbos xxup the xxup shop xxup around xxup the xxup corner is one of the sweetest and most feel - good romantic comedies ever made . xxmaj there 's just no getting around that , and it 's hard to actually put one 's feeling for this film into words . xxmaj it 's not one of those films that tries too hard , nor does it come up with</td>\n",
       "      <td>positive</td>\n",
       "    </tr>\n",
       "    <tr>\n",
       "      <td>xxbos xxmaj now that xxmaj che(2008 ) has finished its relatively short xxmaj australian cinema run ( extremely limited xxunk screen in xxmaj sydney , after xxunk ) , i can xxunk join both xxunk of \" xxmaj at xxmaj the xxmaj movies \" in taking xxmaj steven xxmaj soderbergh to task . \\n \\n  xxmaj it 's usually satisfying to watch a film director change his style /</td>\n",
       "      <td>negative</td>\n",
       "    </tr>\n",
       "    <tr>\n",
       "      <td>xxbos xxmaj this film sat on my xxmaj tivo for weeks before i watched it . i dreaded a self - indulgent xxunk flick about relationships gone bad . i was wrong ; this was an xxunk xxunk into the screwed - up xxunk of xxmaj new xxmaj yorkers . \\n \\n  xxmaj the format is the same as xxmaj max xxmaj xxunk ' \" xxmaj la xxmaj ronde</td>\n",
       "      <td>positive</td>\n",
       "    </tr>\n",
       "    <tr>\n",
       "      <td>xxbos xxmaj many neglect that this is n't just a classic due to the fact that it 's the first xxup 3d game , or even the first xxunk - up . xxmaj it 's also one of the first stealth games , one of the xxunk definitely the first ) truly claustrophobic games , and just a pretty well - rounded gaming experience in general . xxmaj with graphics</td>\n",
       "      <td>positive</td>\n",
       "    </tr>\n",
       "  </tbody>\n",
       "</table>"
      ],
      "text/plain": [
       "<IPython.core.display.HTML object>"
      ]
     },
     "metadata": {},
     "output_type": "display_data"
    }
   ],
   "source": [
    "data = TextClasDataBunch.from_csv(path, 'texts.csv')\n",
    "data.show_batch()"
   ]
  },
  {
   "cell_type": "markdown",
   "metadata": {},
   "source": [
    "The texts are truncated at 100 tokens for more readability. We can see that it did more than just split on space and punctuation symbols: \n",
    "- the \"'s\" are grouped together in one token\n",
    "- the contractions are separated like this: \"did\", \"n't\"\n",
    "- content has been cleaned for any HTML symbol and lower cased\n",
    "- there are several special tokens (all those that begin by xx), to replace unknown tokens (see below) or to introduce different text fields (here we only have one)."
   ]
  },
  {
   "cell_type": "markdown",
   "metadata": {},
   "source": [
    "### Numericalization"
   ]
  },
  {
   "cell_type": "markdown",
   "metadata": {},
   "source": [
    "Once we have extracted tokens from our texts, we convert to integers by creating a list of all the words used. We only keep the ones that appear at least twice with a maximum vocabulary size of 60,000 (by default) and replace the ones that don't make the cut by the unknown token `UNK`.\n",
    "\n",
    "The correspondance from ids to tokens is stored in the `vocab` attribute of our datasets, in a dictionary called `itos` (for int to string)."
   ]
  },
  {
   "cell_type": "code",
   "execution_count": 10,
   "metadata": {},
   "outputs": [
    {
     "data": {
      "text/plain": [
       "['xxunk',\n",
       " 'xxpad',\n",
       " 'xxbos',\n",
       " 'xxeos',\n",
       " 'xxfld',\n",
       " 'xxmaj',\n",
       " 'xxup',\n",
       " 'xxrep',\n",
       " 'xxwrep',\n",
       " 'the']"
      ]
     },
     "execution_count": 10,
     "metadata": {},
     "output_type": "execute_result"
    }
   ],
   "source": [
    "data.vocab.itos[:10]"
   ]
  },
  {
   "cell_type": "markdown",
   "metadata": {},
   "source": [
    "And if we look at what a what's in our datasets, we'll see the tokenized text as a representation:"
   ]
  },
  {
   "cell_type": "code",
   "execution_count": null,
   "metadata": {},
   "outputs": [
    {
     "data": {
      "text/plain": [
       "Text xxbos i know that originally , this film was xxup not a box office hit , but in light of recent xxmaj hollywood releases ( most of which have been decidedly formula - ridden , plot less , pointless , \" save - the - blonde - chick - no - matter - what \" xxunk ) , xxmaj xxunk of xxmaj all xxmaj xxunk , certainly in this sorry context deserves a second opinion . xxmaj the film -- like the book -- loses xxunk in some of the historical background , but it xxunk a uniquely xxmaj american dilemma set against the uniquely horrific xxmaj american xxunk of human xxunk , and some of its tragic ( and funny , and touching ) consequences . \n",
       "\n",
       " xxmaj and worthy of xxunk out is the youthful xxmaj robert xxmaj xxunk , cast as the leading figure , xxmaj xxunk , whose xxunk xxunk is truly universal as he sets out in the beginning of his ' coming of age , ' only to be xxunk disappointed at what turns out to become his true education in the ways of the xxmaj southern plantation world of xxmaj xxunk , at the xxunk of the xxunk period . xxmaj when i saw the previews featuring the ( xxunk ) blond - xxunk xxmaj xxunk , i expected a xxunk , a xxunk , a xxunk -- i was pleasantly surprised . \n",
       "\n",
       " xxmaj xxunk xxmaj davis , xxmaj ruby xxmaj dee , the late xxmaj ben xxmaj xxunk , xxmaj xxunk xxmaj xxunk , xxmaj victoria xxmaj xxunk and even xxmaj xxunk xxmaj guy xxunk vivid imagery and formidable skill as actors in the backdrop xxunk of xxunk , voodoo , xxmaj xxunk \" xxunk , \" and xxmaj xxunk revolt woven into this tale of human passion , hate , love , family , and racial xxunk in a society which is supposedly gone and yet somehow is still with us ."
      ]
     },
     "execution_count": null,
     "metadata": {},
     "output_type": "execute_result"
    }
   ],
   "source": [
    "data.train_ds[0][0]"
   ]
  },
  {
   "cell_type": "markdown",
   "metadata": {},
   "source": [
    "But the underlying data is all numbers"
   ]
  },
  {
   "cell_type": "code",
   "execution_count": 11,
   "metadata": {},
   "outputs": [
    {
     "data": {
      "text/plain": [
       "array([  2,   5,  21,  28, 725,  89,  18,  13,  69, 117])"
      ]
     },
     "execution_count": 11,
     "metadata": {},
     "output_type": "execute_result"
    }
   ],
   "source": [
    "data.train_ds[0][0].data[:10]"
   ]
  },
  {
   "cell_type": "markdown",
   "metadata": {},
   "source": [
    "### With the data block API"
   ]
  },
  {
   "cell_type": "markdown",
   "metadata": {},
   "source": [
    "We can use the data block API with NLP and have a lot more flexibility than what the default factory methods offer. In the previous example for instance, the data was randomly split between train and validation instead of reading the third column of the csv.\n",
    "\n",
    "With the data block API though, we have to manually call the tokenize and numericalize steps. This allows more flexibility, and if you're not using the defaults from fastai, the various arguments to pass will appear in the step they're revelant, so it'll be more readable."
   ]
  },
  {
   "cell_type": "code",
   "execution_count": 12,
   "metadata": {},
   "outputs": [
    {
     "data": {
      "text/html": [],
      "text/plain": [
       "<IPython.core.display.HTML object>"
      ]
     },
     "metadata": {},
     "output_type": "display_data"
    },
    {
     "data": {
      "text/html": [],
      "text/plain": [
       "<IPython.core.display.HTML object>"
      ]
     },
     "metadata": {},
     "output_type": "display_data"
    }
   ],
   "source": [
    "data = (TextList.from_csv(path, 'texts.csv', cols='text')\n",
    "                .split_from_df(col=2)\n",
    "                .label_from_df(cols=0)\n",
    "                .databunch())"
   ]
  },
  {
   "cell_type": "markdown",
   "metadata": {},
   "source": [
    "## Language model"
   ]
  },
  {
   "cell_type": "markdown",
   "metadata": {},
   "source": [
    "Note that language models can use a lot of GPU, so you may need to decrease batchsize here."
   ]
  },
  {
   "cell_type": "code",
   "execution_count": 13,
   "metadata": {},
   "outputs": [],
   "source": [
    "bs=48"
   ]
  },
  {
   "cell_type": "markdown",
   "metadata": {},
   "source": [
    "Now let's grab the full dataset for what follows."
   ]
  },
  {
   "cell_type": "code",
   "execution_count": 14,
   "metadata": {},
   "outputs": [
    {
     "data": {
      "text/plain": [
       "[PosixPath('/storage/imdb/README'),\n",
       " PosixPath('/storage/imdb/tmp_clas'),\n",
       " PosixPath('/storage/imdb/test'),\n",
       " PosixPath('/storage/imdb/imdb.vocab'),\n",
       " PosixPath('/storage/imdb/unsup'),\n",
       " PosixPath('/storage/imdb/train'),\n",
       " PosixPath('/storage/imdb/tmp_lm')]"
      ]
     },
     "execution_count": 14,
     "metadata": {},
     "output_type": "execute_result"
    }
   ],
   "source": [
    "path = untar_data(URLs.IMDB)\n",
    "path.ls()"
   ]
  },
  {
   "cell_type": "code",
   "execution_count": 15,
   "metadata": {},
   "outputs": [
    {
     "data": {
      "text/plain": [
       "[PosixPath('/storage/imdb/train/pos'),\n",
       " PosixPath('/storage/imdb/train/neg'),\n",
       " PosixPath('/storage/imdb/train/unsupBow.feat'),\n",
       " PosixPath('/storage/imdb/train/labeledBow.feat')]"
      ]
     },
     "execution_count": 15,
     "metadata": {},
     "output_type": "execute_result"
    }
   ],
   "source": [
    "(path/'train').ls()"
   ]
  },
  {
   "cell_type": "markdown",
   "metadata": {},
   "source": [
    "The reviews are in a training and test set following an imagenet structure. The only difference is that there is an `unsup` folder on top of `train` and `test` that contains the unlabelled data.\n",
    "\n",
    "We're not going to train a model that classifies the reviews from scratch. Like in computer vision, we'll use a model pretrained on a bigger dataset (a cleaned subset of wikipedia called [wikitext-103](https://einstein.ai/research/blog/the-wikitext-long-term-dependency-language-modeling-dataset)). That model has been trained to guess what the next word is, its input being all the previous words. It has a recurrent structure and a hidden state that is updated each time it sees a new word. This hidden state thus contains information about the sentence up to that point.\n",
    "\n",
    "We are going to use that 'knowledge' of the English language to build our classifier, but first, like for computer vision, we need to fine-tune the pretrained model to our particular dataset. Because the English of the reviews left by people on IMDB isn't the same as the English of wikipedia, we'll need to adjust the parameters of our model by a little bit. Plus there might be some words that would be extremely common in the reviews dataset but would be barely present in wikipedia, and therefore might not be part of the vocabulary the model was trained on."
   ]
  },
  {
   "cell_type": "markdown",
   "metadata": {},
   "source": [
    "This is where the unlabelled data is going to be useful to us, as we can use it to fine-tune our model. Let's create our data object with the data block API (next line takes a few minutes)."
   ]
  },
  {
   "cell_type": "code",
   "execution_count": 16,
   "metadata": {},
   "outputs": [
    {
     "data": {
      "text/html": [],
      "text/plain": [
       "<IPython.core.display.HTML object>"
      ]
     },
     "metadata": {},
     "output_type": "display_data"
    },
    {
     "data": {
      "text/html": [],
      "text/plain": [
       "<IPython.core.display.HTML object>"
      ]
     },
     "metadata": {},
     "output_type": "display_data"
    }
   ],
   "source": [
    "data_lm = (TextList.from_folder(path)\n",
    "           #Inputs: all the text files in path\n",
    "            .filter_by_folder(include=['train', 'test', 'unsup']) \n",
    "           #We may have other temp folders that contain text files so we only keep what's in train and test\n",
    "            .split_by_rand_pct(0.1)\n",
    "           #We randomly split and keep 10% (10,000 reviews) for validation\n",
    "            .label_for_lm()           \n",
    "           #We want to do a language model so we label accordingly\n",
    "            .databunch(bs=bs))\n",
    "data_lm.save('data_lm.pkl')"
   ]
  },
  {
   "cell_type": "markdown",
   "metadata": {},
   "source": [
    "We have to use a special kind of `TextDataBunch` for the language model, that ignores the labels (that's why we put 0 everywhere), will shuffle the texts at each epoch before concatenating them all together (only for training, we don't shuffle for the validation set) and will send batches that read that text in order with targets that are the next word in the sentence.\n",
    "\n",
    "The line before being a bit long, we want to load quickly the final ids by using the following cell."
   ]
  },
  {
   "cell_type": "code",
   "execution_count": 17,
   "metadata": {},
   "outputs": [],
   "source": [
    "data_lm = load_data(path, 'data_lm.pkl', bs=bs)"
   ]
  },
  {
   "cell_type": "code",
   "execution_count": 18,
   "metadata": {},
   "outputs": [
    {
     "data": {
      "text/html": [
       "<table border=\"1\" class=\"dataframe\">\n",
       "  <thead>\n",
       "    <tr style=\"text-align: right;\">\n",
       "      <th>idx</th>\n",
       "      <th>text</th>\n",
       "    </tr>\n",
       "  </thead>\n",
       "  <tbody>\n",
       "    <tr>\n",
       "      <td>0</td>\n",
       "      <td>lauren xxmaj graham ) , and the daughter , named xxmaj rory ( short for xxmaj lorelai , played by xxmaj alexis xxmaj bledel ) , are both very beautiful women , they are both funny and they are charming in their own ways . xxmaj there are some funny supporting characters , such as xxmaj luke ( xxmaj scott xxmaj patterson ) . xxmaj he and xxmaj lorelai like</td>\n",
       "    </tr>\n",
       "    <tr>\n",
       "      <td>1</td>\n",
       "      <td>years later , i came across xxup alice xxup in xxup wonderland at a local video store . i wondered to myself if this was the same film until i looked at the back of the jacket and saw a picture of lovely xxmaj kristine debell in the starring role and decided to rekindle some fond memories . xxmaj subversive xxmaj video , to their credit , has released two</td>\n",
       "    </tr>\n",
       "    <tr>\n",
       "      <td>2</td>\n",
       "      <td>to get some pointer from him and as it turned out xxmaj he would give me still shots and some of the 35 mm film of the daily shooting that were not going to be used . xxmaj those film strips i cut up and made slides out of them . xxmaj after the movie came out in xxup vhs tape ( xxmaj the xxup di , xxunk xxup b&amp;w</td>\n",
       "    </tr>\n",
       "    <tr>\n",
       "      <td>3</td>\n",
       "      <td>\" xxmaj mighty xxmaj joe xxmaj young . \" xxmaj if you remember , music was important to the big ape which would only respond to the sound of xxmaj stephan xxmaj foster 's \" xxmaj beautiful xxmaj dreamer . \" xxmaj in 1947 , xxmaj cooper would partner with xxmaj john xxmaj ford , who directed \" xxmaj wagon xxmaj master . \" xxmaj of all of xxmaj ford</td>\n",
       "    </tr>\n",
       "    <tr>\n",
       "      <td>4</td>\n",
       "      <td>i would rip them to my computer and then watch the converted files . i took a chance and ordered it from xxup abc ",
       "  6 to 8 weeks later , i had all 3 seasons . xxmaj even better it worked on my xxup ntsc xxup dvd player . i suspect any player bought in the past 2 yrs that does xxunk / divx will play them .</td>\n",
       "    </tr>\n",
       "  </tbody>\n",
       "</table>"
      ],
      "text/plain": [
       "<IPython.core.display.HTML object>"
      ]
     },
     "metadata": {},
     "output_type": "display_data"
    }
   ],
   "source": [
    "data_lm.show_batch()"
   ]
  },
  {
   "cell_type": "markdown",
   "metadata": {},
   "source": [
    "We can then put this in a learner object very easily with a model loaded with the pretrained weights. They'll be downloaded the first time you'll execute the following line and stored in `~/.fastai/models/` (or elsewhere if you specified different paths in your config file)."
   ]
  },
  {
   "cell_type": "code",
   "execution_count": 19,
   "metadata": {},
   "outputs": [
    {
     "name": "stdout",
     "output_type": "stream",
     "text": [
      "Downloading https://s3.amazonaws.com/fast-ai-modelzoo/wt103-fwd\n"
     ]
    },
    {
     "data": {
      "text/html": [],
      "text/plain": [
       "<IPython.core.display.HTML object>"
      ]
     },
     "metadata": {},
     "output_type": "display_data"
    }
   ],
   "source": [
    "learn = language_model_learner(data_lm, AWD_LSTM, drop_mult=0.3)"
   ]
  },
  {
   "cell_type": "code",
   "execution_count": 20,
   "metadata": {},
   "outputs": [
    {
     "data": {
      "text/html": [
       "\n",
       "    <div>\n",
       "        <style>\n",
       "            /* Turns off some styling */\n",
       "            progress {\n",
       "                /* gets rid of default border in Firefox and Opera. */\n",
       "                border: none;\n",
       "                /* Needs to be in here for Safari polyfill so background images work as expected. */\n",
       "                background-size: auto;\n",
       "            }\n",
       "            .progress-bar-interrupted, .progress-bar-interrupted::-webkit-progress-bar {\n",
       "                background: #F44336;\n",
       "            }\n",
       "        </style>\n",
       "      <progress value='0' class='' max='1', style='width:300px; height:20px; vertical-align: middle;'></progress>\n",
       "      0.00% [0/1 00:00<00:00]\n",
       "    </div>\n",
       "    \n",
       "<table border=\"1\" class=\"dataframe\">\n",
       "  <thead>\n",
       "    <tr style=\"text-align: left;\">\n",
       "      <th>epoch</th>\n",
       "      <th>train_loss</th>\n",
       "      <th>valid_loss</th>\n",
       "      <th>accuracy</th>\n",
       "      <th>time</th>\n",
       "    </tr>\n",
       "  </thead>\n",
       "  <tbody>\n",
       "  </tbody>\n",
       "</table><p>\n",
       "\n",
       "    <div>\n",
       "        <style>\n",
       "            /* Turns off some styling */\n",
       "            progress {\n",
       "                /* gets rid of default border in Firefox and Opera. */\n",
       "                border: none;\n",
       "                /* Needs to be in here for Safari polyfill so background images work as expected. */\n",
       "                background-size: auto;\n",
       "            }\n",
       "            .progress-bar-interrupted, .progress-bar-interrupted::-webkit-progress-bar {\n",
       "                background: #F44336;\n",
       "            }\n",
       "        </style>\n",
       "      <progress value='99' class='' max='8058', style='width:300px; height:20px; vertical-align: middle;'></progress>\n",
       "      1.23% [99/8058 00:25<33:40 11.9782]\n",
       "    </div>\n",
       "    "
      ],
      "text/plain": [
       "<IPython.core.display.HTML object>"
      ]
     },
     "metadata": {},
     "output_type": "display_data"
    },
    {
     "name": "stdout",
     "output_type": "stream",
     "text": [
      "LR Finder is complete, type {learner_name}.recorder.plot() to see the graph.\n"
     ]
    }
   ],
   "source": [
    "learn.lr_find()"
   ]
  },
  {
   "cell_type": "code",
   "execution_count": 21,
   "metadata": {},
   "outputs": [
    {
     "data": {
      "image/png": "[encoded data removed]",
      "text/plain": [
       "<Figure size 432x288 with 1 Axes>"
      ]
     },
     "metadata": {
      "needs_background": "light"
     },
     "output_type": "display_data"
    }
   ],
   "source": [
    "learn.recorder.plot(skip_end=15)"
   ]
  },
  {
   "cell_type": "code",
   "execution_count": 22,
   "metadata": {},
   "outputs": [
    {
     "data": {
      "text/html": [
       "<table border=\"1\" class=\"dataframe\">\n",
       "  <thead>\n",
       "    <tr style=\"text-align: left;\">\n",
       "      <th>epoch</th>\n",
       "      <th>train_loss</th>\n",
       "      <th>valid_loss</th>\n",
       "      <th>accuracy</th>\n",
       "      <th>time</th>\n",
       "    </tr>\n",
       "  </thead>\n",
       "  <tbody>\n",
       "    <tr>\n",
       "      <td>0</td>\n",
       "      <td>4.155427</td>\n",
       "      <td>4.024430</td>\n",
       "      <td>0.295357</td>\n",
       "      <td>36:00</td>\n",
       "    </tr>\n",
       "  </tbody>\n",
       "</table>"
      ],
      "text/plain": [
       "<IPython.core.display.HTML object>"
      ]
     },
     "metadata": {},
     "output_type": "display_data"
    }
   ],
   "source": [
    "learn.fit_one_cycle(1, 1e-2, moms=(0.8,0.7))"
   ]
  },
  {
   "cell_type": "code",
   "execution_count": 24,
   "metadata": {},
   "outputs": [],
   "source": [
    "learn.save('fit_head')"
   ]
  },
  {
   "cell_type": "code",
   "execution_count": 25,
   "metadata": {},
   "outputs": [],
   "source": [
    "learn.load('fit_head');"
   ]
  },
  {
   "cell_type": "markdown",
   "metadata": {},
   "source": [
    "To complete the fine-tuning, we can then unfeeze and launch a new training."
   ]
  },
  {
   "cell_type": "code",
   "execution_count": 26,
   "metadata": {},
   "outputs": [],
   "source": [
    "learn.unfreeze()"
   ]
  },
  {
   "cell_type": "code",
   "execution_count": 28,
   "metadata": {},
   "outputs": [
    {
     "data": {
      "text/html": [
       "<table border=\"1\" class=\"dataframe\">\n",
       "  <thead>\n",
       "    <tr style=\"text-align: left;\">\n",
       "      <th>epoch</th>\n",
       "      <th>train_loss</th>\n",
       "      <th>valid_loss</th>\n",
       "      <th>accuracy</th>\n",
       "      <th>time</th>\n",
       "    </tr>\n",
       "  </thead>\n",
       "  <tbody>\n",
       "    <tr>\n",
       "      <td>0</td>\n",
       "      <td>3.808204</td>\n",
       "      <td>3.786787</td>\n",
       "      <td>0.322447</td>\n",
       "      <td>36:49</td>\n",
       "    </tr>\n",
       "    <tr>\n",
       "      <td>1</td>\n",
       "      <td>3.723344</td>\n",
       "      <td>3.721315</td>\n",
       "      <td>0.331068</td>\n",
       "      <td>36:52</td>\n",
       "    </tr>\n",
       "  </tbody>\n",
       "</table>"
      ],
      "text/plain": [
       "<IPython.core.display.HTML object>"
      ]
     },
     "metadata": {},
     "output_type": "display_data"
    }
   ],
   "source": [
    "learn.fit_one_cycle(2, 1e-3, moms=(0.8,0.7))"
   ]
  },
  {
   "cell_type": "code",
   "execution_count": 29,
   "metadata": {},
   "outputs": [],
   "source": [
    "learn.save('fine_tuned')"
   ]
  },
  {
   "cell_type": "markdown",
   "metadata": {},
   "source": [
    "How good is our model? Well let's try to see what it predicts after a few given words."
   ]
  },
  {
   "cell_type": "code",
   "execution_count": 30,
   "metadata": {},
   "outputs": [],
   "source": [
    "learn.load('fine_tuned');"
   ]
  },
  {
   "cell_type": "code",
   "execution_count": 31,
   "metadata": {},
   "outputs": [],
   "source": [
    "TEXT = \"I liked this movie because\"\n",
    "N_WORDS = 40\n",
    "N_SENTENCES = 2"
   ]
  },
  {
   "cell_type": "code",
   "execution_count": 32,
   "metadata": {},
   "outputs": [
    {
     "name": "stdout",
     "output_type": "stream",
     "text": [
      "I liked this movie because there were close ups , but as the movie progressed , i looked deeper into these people . Many people here are n't either saying the lines or message , but this is a really good movie .\n",
      "I liked this movie because it was made with a lot of Steve Martin 50 's actors , but that is why they did n't do it . i was completely excited by this film because it was about a guy who played\n"
     ]
    }
   ],
   "source": [
    "print(\"\\n\".join(learn.predict(TEXT, N_WORDS, temperature=0.75) for _ in range(N_SENTENCES)))"
   ]
  },
  {
   "cell_type": "markdown",
   "metadata": {},
   "source": [
    "We have to save not only the model, but also its encoder, the part that's responsible for creating and updating the hidden state. For the next part, we don't care about the part that tries to guess the next word."
   ]
  },
  {
   "cell_type": "code",
   "execution_count": 34,
   "metadata": {},
   "outputs": [],
   "source": [
    "learn.save_encoder('fine_tuned_enc')"
   ]
  },
  {
   "cell_type": "markdown",
   "metadata": {},
   "source": [
    "## Classifier"
   ]
  },
  {
   "cell_type": "markdown",
   "metadata": {},
   "source": [
    "Now, we'll create a new data object that only grabs the labelled data and keeps those labels. Again, this line takes a bit of time."
   ]
  },
  {
   "cell_type": "code",
   "execution_count": 35,
   "metadata": {},
   "outputs": [],
   "source": [
    "path = untar_data(URLs.IMDB)"
   ]
  },
  {
   "cell_type": "code",
   "execution_count": 36,
   "metadata": {},
   "outputs": [
    {
     "data": {
      "text/html": [],
      "text/plain": [
       "<IPython.core.display.HTML object>"
      ]
     },
     "metadata": {},
     "output_type": "display_data"
    },
    {
     "data": {
      "text/html": [],
      "text/plain": [
       "<IPython.core.display.HTML object>"
      ]
     },
     "metadata": {},
     "output_type": "display_data"
    }
   ],
   "source": [
    "data_clas = (TextList.from_folder(path, vocab=data_lm.vocab)\n",
    "             #grab all the text files in path\n",
    "             .split_by_folder(valid='test')\n",
    "             #split by train and valid folder (that only keeps 'train' and 'test' so no need to filter)\n",
    "             .label_from_folder(classes=['neg', 'pos'])\n",
    "             #label them all with their folders\n",
    "             .databunch(bs=bs))\n",
    "\n",
    "data_clas.save('data_clas.pkl')"
   ]
  },
  {
   "cell_type": "code",
   "execution_count": 37,
   "metadata": {},
   "outputs": [],
   "source": [
    "data_clas = load_data(path, 'data_clas.pkl', bs=bs)"
   ]
  },
  {
   "cell_type": "code",
   "execution_count": 38,
   "metadata": {},
   "outputs": [
    {
     "data": {
      "text/html": [
       "<table border=\"1\" class=\"dataframe\">\n",
       "  <thead>\n",
       "    <tr style=\"text-align: right;\">\n",
       "      <th>text</th>\n",
       "      <th>target</th>\n",
       "    </tr>\n",
       "  </thead>\n",
       "  <tbody>\n",
       "    <tr>\n",
       "      <td>xxbos xxmaj match 1 : xxmaj tag xxmaj team xxmaj table xxmaj match xxmaj bubba xxmaj ray and xxmaj spike xxmaj dudley vs xxmaj eddie xxmaj guerrero and xxmaj chris xxmaj benoit xxmaj bubba xxmaj ray and xxmaj spike xxmaj dudley started things off with a xxmaj tag xxmaj team xxmaj table xxmaj match against xxmaj eddie xxmaj guerrero and xxmaj chris xxmaj benoit . xxmaj according to the rules</td>\n",
       "      <td>pos</td>\n",
       "    </tr>\n",
       "    <tr>\n",
       "      <td>xxbos xxmaj titanic directed by xxmaj james xxmaj cameron presents a fictional love story on the historical setting of the xxmaj titanic . xxmaj the plot is simple , xxunk , or not for those who love plots that twist and turn and keep you in suspense . xxmaj the end of the movie can be figured out within minutes of the start of the film , but the love</td>\n",
       "      <td>pos</td>\n",
       "    </tr>\n",
       "    <tr>\n",
       "      <td>xxbos xxmaj my xxmaj comments for xxup vivah : - xxmaj its a charming , idealistic love story starring xxmaj shahid xxmaj kapoor and xxmaj amrita xxmaj rao . xxmaj the film takes us back to small pleasures like the bride and bridegroom 's families sleeping on the floor , playing games together , their friendly banter and mutual respect . xxmaj vivah is about the sanctity of marriage and</td>\n",
       "      <td>pos</td>\n",
       "    </tr>\n",
       "    <tr>\n",
       "      <td>xxbos xxmaj by 1987 xxmaj hong xxmaj kong had given the world such films as xxmaj sammo xxmaj hung 's ` xxmaj encounters of the xxmaj spooky xxmaj kind ' xxmaj chow xxmaj yun xxmaj fat in xxmaj john xxmaj woo 's iconic ` a xxmaj better xxmaj tomorrow ' , ` xxmaj zu xxmaj warriors ' and the classic ` xxmaj mr xxmaj vampire ' . xxmaj jackie xxmaj</td>\n",
       "      <td>pos</td>\n",
       "    </tr>\n",
       "    <tr>\n",
       "      <td>xxbos xxmaj waitress : xxmaj honey , here 's them eggs you ordered . xxmaj honey , like bee , get it ? xxmaj that 's called pointless foreshadowing . \\n \\n  xxmaj edward xxmaj basket : xxmaj huh ? ( xxmaj on the road ) xxmaj basket : xxmaj here 's your doll back , little girl . xxmaj you really should n't be so careless with your</td>\n",
       "      <td>neg</td>\n",
       "    </tr>\n",
       "  </tbody>\n",
       "</table>"
      ],
      "text/plain": [
       "<IPython.core.display.HTML object>"
      ]
     },
     "metadata": {},
     "output_type": "display_data"
    }
   ],
   "source": [
    "data_clas.show_batch()"
   ]
  },
  {
   "cell_type": "markdown",
   "metadata": {},
   "source": [
    "We can then create a model to classify those reviews and load the encoder we saved before."
   ]
  },
  {
   "cell_type": "code",
   "execution_count": 39,
   "metadata": {},
   "outputs": [
    {
     "data": {
      "text/plain": [
       "RNNLearner(data=TextClasDataBunch;\n",
       "\n",
       "Train: LabelList (25000 items)\n",
       "x: TextList\n",
       "xxbos i am decidedly not in the target audience for this film . i am a man nearly 50 who has only recently stumbled across the world of independent film . xxmaj this happened quite by accident , with the discovery of a movie called xxmaj clerks late one night on television . xxmaj the first two things i noticed about that film were that it was 1 ) technically amateurish and 2 ) brilliantly written . xxmaj when i read an interview with the director in the local paper and he said that one of his influences was xxmaj clerks , i started to get interesting . xxmaj when he said his main influence was xxmaj the xxmaj station xxmaj agent , a movie i 'd seen on xxup dvd a week prior , i decided i had to go and check it out . xxmaj the result could be described along the same lines as xxmaj clerks , although the two films are nothing alike content wise . xxmaj both films suffer from technical gaffes that are overcome through amazing writing . xxmaj whereas xxmaj clerks is a day in the life of a man who has nothing in his life at all and is afraid to ask tough questions about himself and his situation , xxmaj less xxmaj like xxmaj me is about a man who seemingly forces himself to be constantly busy , he 's always running one way or another , filling his life with little things so that he will never have to deal with the big ones . xxmaj the themes and ideas of this film are strong and poignant . i can tell from watching it that not much has changed since i was growing up , young men still have the same problems they always have . xxmaj the writer dresses up these problems and themes in the modern vernacular , crafts wonderfully honest characters , and has them do completely believable things . xxmaj as far as indie cinema goes , this may not be perfect from a technical standpoint , but from an artistic one , it is very close .,xxbos xxmaj david xxmaj webb xxmaj peoples meets xxmaj paul xxmaj anderson ... if it already sounds weird to you , then you are right , because it is . \n",
       " \n",
       "  xxmaj peoples is known for his scripts with moral implications of what is right and wrong , the value of life , etc ... xxmaj he covered these issues in xxmaj bladerunner , xxmaj unforgiven , and pretty much in all of his screenplays there is something along those lines . \n",
       " \n",
       "  xxmaj paul xxmaj anderson 's first successful movie was a violent thriller . xxmaj not surprisingly so have all of his other movies ! xxmaj and here is a violent thriller with moral implications ! \n",
       " \n",
       "  xxmaj peoples ' script is quite apparent in the first half of the movie . xxmaj soldiers trained from birth , taught to kill , and never had a normal life . xxmaj they are replaced by better , genetically engineered soldiers and xxmaj todd , one of the original soldiers , is left on a planet and left for dead . xxmaj there he must cope with a group of refugees , some want him to stay others hate him and there is an interesting drama here . xxup but xxup then ... \n",
       " \n",
       "  ... xxmaj the bullets start to fly as the new soldiers move onto the planet for a military exercise and try to kill all the people . xxmaj big , violent , loud action ensues and xxmaj peoples ' script turns into an xxmaj anderson action - fest . xxmaj it is hard to believe that the script was originally written that way , but the end product is better then i expected . xxmaj entertaining , somewhat , though admittedly not very , thought - provoking , and exciting once the action starts . 7 / 10 \n",
       " \n",
       "  xxmaj rated r : a lot of violence,xxbos xxmaj this film has great acting , great photography and a very strong story line that really makes you think about who you are , how you define yourself , how you fit in , whether you accept to play a role or break free ... xxmaj there already are excellent comments dealing with these aspects . i want to comment on the formal setting of the film . xxmaj basically , it 's two people on a roof . xxmaj there is unity of place and time , with 2 protagonists , and the radio acting as the choir . xxmaj many directors have turned xxmaj greek tragedies into film , many directors have filmed contemporary stories as if they were a xxmaj greek tragedy , but no director , in my opinion , has succeeded as admirably as xxmaj ettore xxmaj scola in approaching the purity and force of the great xxmaj greek tragedies both in story line and formal setting . a masterpiece .,xxbos i found this movie to be exciting right from the start -- like a xxmaj spielberg movie is -- and found the plot to be intriguing as i tried to figure out what the actual situation was . \n",
       " \n",
       "  xxmaj right from the start -- before the opening xxunk the action starts , bringing with it immediate suspense . \n",
       " \n",
       "  xxmaj the two main characters are very likable . ( i have trouble liking any of the xxmaj baldwins , due to xxmaj alec 's extra - curricular , political activities , but xxmaj william was not too bad in this movie . ) \n",
       " \n",
       "  xxmaj there were several highly unexpected twists , which contributed to the enjoyment . \n",
       " \n",
       "  xxmaj there were , unfortunately , many places where there was an annoying high pitch sound in the soundtrack -- something like 19 k xxmaj xxunk . i suspect the microphone was picking up video monitors on the set .,xxbos xxmaj first time i saw this movie was in the eighties , but reviewed now this thriller is still actual . xxmaj some newer movies focus on similar topics , but they do not match this french milestone . \n",
       " \n",
       "  a president - obviously xxup xxunk xxmaj kennedy - gets shot in an open car during a public appearance . xxmaj the resulting huge investigation finds the \" xxmaj lee xxmaj harvey xxmaj oswald \" figure of this movie guilty , but one member of the jury insists in further inquiry . xxmaj he reveals some surprising evidence ... \n",
       " \n",
       "  xxmaj unlike xxmaj oliver xxmaj stone 's xxup jfk - a movie with the same plot - this one does not play with emotions , but concentrates in a exciting description of a conspiracy and how everything fits together , drawing a new picture of the assassination . xxmaj even a real psychological experiment is used for this explanation of the crime scene . xxmaj compared to xxup jfk this movie is more reasonable , intelligent and thrilling . xxmaj parts of the plot can be found in a lot of newer movies , i had a kind of deja vu sometimes sitting in the cinema . \n",
       " \n",
       "  \" i ... comme xxmaj xxunk \" is a \" must see \" . xxmaj its unique and brilliant , and the music by xxmaj ennio xxmaj morricone is wonderful . xxmaj this movie deserves a very good ranking , if it was a xxmaj hollywood production it would be famous for sure . \n",
       " \n",
       " \n",
       "y: CategoryList\n",
       "pos,pos,pos,pos,pos\n",
       "Path: /notebooks/course-v3/nbs/dl1/data/imdb;\n",
       "\n",
       "Valid: LabelList (25000 items)\n",
       "x: TextList\n",
       "xxbos xxmaj the xxmaj gilmore girls is about a mother who had a daughter when she was 16 . xxmaj now the daughter is 16 ( in season 1 ) and they live like sisters . xxmaj sharing everything , trusting each other completely . \n",
       " \n",
       "  i like xxmaj the xxmaj gilmore xxmaj girls but i am not sure why . xxmaj the mother , named xxmaj lorelai ( xxmaj lauren xxmaj graham ) , and the daughter , named xxmaj rory ( short for xxmaj lorelai , played by xxmaj alexis xxmaj bledel ) , are both very beautiful women , they are both funny and they are charming in their own ways . xxmaj there are some funny supporting characters , such as xxmaj luke ( xxmaj scott xxmaj patterson ) . xxmaj he and xxmaj lorelai like each , may be even love each other , but neither of them really acts on it . xxmaj they have their little moments . xxmaj there are some other supporting characters , most of them very funny , and with their won touching moments . \n",
       " \n",
       "  xxmaj what i like the most i think is to see the relationship between the young mother and the daughter who is becoming an adult . xxmaj the dialogue between them is quick , sharp , funny and sometimes touching as well . xxmaj the band they have is beautiful . xxmaj the xxmaj gilmore xxmaj girls makes you feel good so try it .,xxbos i have to say that some of the other reviews of this film i have read show very little understanding of it or the original xxup tv series it stemmed from . xxmaj dad 's xxmaj army was a sitcom and therefore had humour and so is bound to have put a smile on the face of the dire situation . xxmaj however the series carried very many serious messages such as the episode ' xxmaj branded ' about the bigotry and ignorance that was attached to conscientious objectors . xxmaj the film was faithful to the series and was simply like an extended episode . xxmaj so i 'm afraid the reviewer who claimed that xxmaj columbia improved the humour was quite wrong and let 's face it - the xxup bbc sitcoms of this period beat anything that came out of xxmaj america hands down . xxmaj also comments referring to propaganda were also way off the mark . xxmaj the xxmaj xxunk were people considered unfit for frontline service who still wished to serve . xxmaj they were very brave men who knew they were sentenced to death as soon as they signed up as xxmaj hitler announced that anyone who did so would be executed if and when xxmaj britain was invaded . xxmaj thank you for allowing me the opportunity to set the record straight as it is always good to actually speak and comment on what has been seen rather making it up as you go along i find .,xxbos xxup guts xxup of a xxup beauty is a bit better than its predecessor xxup guts xxup of a xxup virgin . xxmaj although this film is n't really a sequel in the sense that it has absolutely nothing to do with the first installment , i did find xxup beauty to be a little stronger and better put together all - the - way - around than xxup virgin ... but then again , that 's not really saying much . \n",
       " \n",
       "  xxup beauty starts off as a pretty rough and straight - faced exploit film . a couple of xxmaj yakuza cats are holding a young woman prisoner and begin gang raping her in pretty brutal fashion . xxmaj as this nastiness is going on , the head guy tells the girl that they did the same to her sister and sold her into slavery in xxmaj africa , and that they 're gon na do the same to her . xxmaj they then shoot her up with some drugs and rape her some more . xxmaj she somehow gets away and ends up at a clinic where the nurse there listens to her sob story . xxmaj the rapee ends up freaking out from the stress of her prior experience and commits suicide . xxmaj the clinic worker , moved by the young lady 's story , decides to take revenge on the gang by seducing one of the lower - level guys and trying to hypnotize him to make him kill the xxmaj yakuza leaders . xxmaj this whole plan backfires , so now xxmaj ms. xxmaj vigilante - xxmaj clinic - xxmaj worker gets exposed to much the same treatment that our original rapee got - only worse ( some pretty rough butt - rape ensues along with the pre - requisite gang rape ... ) . xxmaj she too is drugged , but the drug has a strange side effect on our seemingly hapless victim xxrep 5 - it turns her into a raging hermaphroditic xxup blood xxup demon ! ! ! ( no sh!t , that 's what really happens ! ! ! ) xxmaj this is when xxup beauty really takes off with some pretty f!cking insane kill scenes - including a very classy chest - burst - rape that looks like a cross between xxup alien and a bad porn , and my favorite - a head - engulfed - by - demon - vagina kill ( complete with demon vagina - slime ... xxunk has to be seen to be believed ... \n",
       " \n",
       "  xxmaj definitely some promising stuff going on in xxup guts xxup of a xxup beauty , but still very disjointed feeling . xxup beauty almost feels like two different films being forced together in a non - compatible way . xxmaj still , i have to give the film credit - the rape scenes are very rough and misogynistic , and the kill scenes are just totally off the wall . a solid 7 / 10 for another crazy j - horror \" classic \" .,xxbos xxmaj after seeing xxmaj big xxmaj fat xxmaj liar , i think xxmaj jason learned a lot more . xxmaj when he told the truth about xxmaj marty stealing his story , it was like the boy who cried wolf . xxmaj people heard him , but they did n't believe him . xxmaj nobody did anything to help him . xxmaj besides , not only xxmaj marty 's movies stink , so does his advice . xxmaj the truth is not overrated . i am so glad he got exposed for what he really is . xxmaj everyone found out that he stole from that boy , including his parents . xxmaj not only he stole from that boy and lied about it , he gave them someone else 's work and tried to call it his own , which is plagiarism . xxmaj does n't he know that it is illegal to plagiarize someone 's idea ? xxmaj another reason why he got fired . xxmaj he is not trustworthy . xxmaj he 's a liar , a cheat , a thief , a crook , and a plagiarist . xxmaj you got that xxmaj marty ? xxmaj you 're a plagiarist . xxmaj plus , you got everything that you deserved .,xxbos xxmaj big xxmaj fat xxmaj liar is what you get when you combine terrific writing , great production , and an emphasis on clever ideas over adolescent pap . xxmaj the two stars work great together , and -- what can i say ? xxmaj amanda xxmaj bynes shines . xxmaj putting \" xxmaj xxunk \" and xxmaj lee xxmaj majors in the film were brilliant touches . xxmaj watch this film with your kids . xxmaj if you do n't laugh throughout it , you must not have been paying attention .\n",
       "y: CategoryList\n",
       "pos,pos,pos,pos,pos\n",
       "Path: /notebooks/course-v3/nbs/dl1/data/imdb;\n",
       "\n",
       "Test: None, model=SequentialRNN(\n",
       "  (0): MultiBatchEncoder(\n",
       "    (module): AWD_LSTM(\n",
       "      (encoder): Embedding(60000, 400, padding_idx=1)\n",
       "      (encoder_dp): EmbeddingDropout(\n",
       "        (emb): Embedding(60000, 400, padding_idx=1)\n",
       "      )\n",
       "      (rnns): ModuleList(\n",
       "        (0): WeightDropout(\n",
       "          (module): LSTM(400, 1152, batch_first=True)\n",
       "        )\n",
       "        (1): WeightDropout(\n",
       "          (module): LSTM(1152, 1152, batch_first=True)\n",
       "        )\n",
       "        (2): WeightDropout(\n",
       "          (module): LSTM(1152, 400, batch_first=True)\n",
       "        )\n",
       "      )\n",
       "      (input_dp): RNNDropout()\n",
       "      (hidden_dps): ModuleList(\n",
       "        (0): RNNDropout()\n",
       "        (1): RNNDropout()\n",
       "        (2): RNNDropout()\n",
       "      )\n",
       "    )\n",
       "  )\n",
       "  (1): PoolingLinearClassifier(\n",
       "    (layers): Sequential(\n",
       "      (0): BatchNorm1d(1200, eps=1e-05, momentum=0.1, affine=True, track_running_stats=True)\n",
       "      (1): Dropout(p=0.2, inplace=False)\n",
       "      (2): Linear(in_features=1200, out_features=50, bias=True)\n",
       "      (3): ReLU(inplace=True)\n",
       "      (4): BatchNorm1d(50, eps=1e-05, momentum=0.1, affine=True, track_running_stats=True)\n",
       "      (5): Dropout(p=0.1, inplace=False)\n",
       "      (6): Linear(in_features=50, out_features=2, bias=True)\n",
       "    )\n",
       "  )\n",
       "), opt_func=functools.partial(<class 'torch.optim.adam.Adam'>, betas=(0.9, 0.99)), loss_func=FlattenedLoss of CrossEntropyLoss(), metrics=[<function accuracy at 0x7f4111135e18>], true_wd=True, bn_wd=True, wd=0.01, train_bn=True, path=PosixPath('/notebooks/course-v3/nbs/dl1/data/imdb'), model_dir='models', callback_fns=[functools.partial(<class 'fastai.basic_train.Recorder'>, add_time=True, silent=False)], callbacks=[RNNTrainer\n",
       "learn: RNNLearner(data=TextClasDataBunch;\n",
       "\n",
       "Train: LabelList (25000 items)\n",
       "x: TextList\n",
       "xxbos i am decidedly not in the target audience for this film . i am a man nearly 50 who has only recently stumbled across the world of independent film . xxmaj this happened quite by accident , with the discovery of a movie called xxmaj clerks late one night on television . xxmaj the first two things i noticed about that film were that it was 1 ) technically amateurish and 2 ) brilliantly written . xxmaj when i read an interview with the director in the local paper and he said that one of his influences was xxmaj clerks , i started to get interesting . xxmaj when he said his main influence was xxmaj the xxmaj station xxmaj agent , a movie i 'd seen on xxup dvd a week prior , i decided i had to go and check it out . xxmaj the result could be described along the same lines as xxmaj clerks , although the two films are nothing alike content wise . xxmaj both films suffer from technical gaffes that are overcome through amazing writing . xxmaj whereas xxmaj clerks is a day in the life of a man who has nothing in his life at all and is afraid to ask tough questions about himself and his situation , xxmaj less xxmaj like xxmaj me is about a man who seemingly forces himself to be constantly busy , he 's always running one way or another , filling his life with little things so that he will never have to deal with the big ones . xxmaj the themes and ideas of this film are strong and poignant . i can tell from watching it that not much has changed since i was growing up , young men still have the same problems they always have . xxmaj the writer dresses up these problems and themes in the modern vernacular , crafts wonderfully honest characters , and has them do completely believable things . xxmaj as far as indie cinema goes , this may not be perfect from a technical standpoint , but from an artistic one , it is very close .,xxbos xxmaj david xxmaj webb xxmaj peoples meets xxmaj paul xxmaj anderson ... if it already sounds weird to you , then you are right , because it is . \n",
       " \n",
       "  xxmaj peoples is known for his scripts with moral implications of what is right and wrong , the value of life , etc ... xxmaj he covered these issues in xxmaj bladerunner , xxmaj unforgiven , and pretty much in all of his screenplays there is something along those lines . \n",
       " \n",
       "  xxmaj paul xxmaj anderson 's first successful movie was a violent thriller . xxmaj not surprisingly so have all of his other movies ! xxmaj and here is a violent thriller with moral implications ! \n",
       " \n",
       "  xxmaj peoples ' script is quite apparent in the first half of the movie . xxmaj soldiers trained from birth , taught to kill , and never had a normal life . xxmaj they are replaced by better , genetically engineered soldiers and xxmaj todd , one of the original soldiers , is left on a planet and left for dead . xxmaj there he must cope with a group of refugees , some want him to stay others hate him and there is an interesting drama here . xxup but xxup then ... \n",
       " \n",
       "  ... xxmaj the bullets start to fly as the new soldiers move onto the planet for a military exercise and try to kill all the people . xxmaj big , violent , loud action ensues and xxmaj peoples ' script turns into an xxmaj anderson action - fest . xxmaj it is hard to believe that the script was originally written that way , but the end product is better then i expected . xxmaj entertaining , somewhat , though admittedly not very , thought - provoking , and exciting once the action starts . 7 / 10 \n",
       " \n",
       "  xxmaj rated r : a lot of violence,xxbos xxmaj this film has great acting , great photography and a very strong story line that really makes you think about who you are , how you define yourself , how you fit in , whether you accept to play a role or break free ... xxmaj there already are excellent comments dealing with these aspects . i want to comment on the formal setting of the film . xxmaj basically , it 's two people on a roof . xxmaj there is unity of place and time , with 2 protagonists , and the radio acting as the choir . xxmaj many directors have turned xxmaj greek tragedies into film , many directors have filmed contemporary stories as if they were a xxmaj greek tragedy , but no director , in my opinion , has succeeded as admirably as xxmaj ettore xxmaj scola in approaching the purity and force of the great xxmaj greek tragedies both in story line and formal setting . a masterpiece .,xxbos i found this movie to be exciting right from the start -- like a xxmaj spielberg movie is -- and found the plot to be intriguing as i tried to figure out what the actual situation was . \n",
       " \n",
       "  xxmaj right from the start -- before the opening xxunk the action starts , bringing with it immediate suspense . \n",
       " \n",
       "  xxmaj the two main characters are very likable . ( i have trouble liking any of the xxmaj baldwins , due to xxmaj alec 's extra - curricular , political activities , but xxmaj william was not too bad in this movie . ) \n",
       " \n",
       "  xxmaj there were several highly unexpected twists , which contributed to the enjoyment . \n",
       " \n",
       "  xxmaj there were , unfortunately , many places where there was an annoying high pitch sound in the soundtrack -- something like 19 k xxmaj xxunk . i suspect the microphone was picking up video monitors on the set .,xxbos xxmaj first time i saw this movie was in the eighties , but reviewed now this thriller is still actual . xxmaj some newer movies focus on similar topics , but they do not match this french milestone . \n",
       " \n",
       "  a president - obviously xxup xxunk xxmaj kennedy - gets shot in an open car during a public appearance . xxmaj the resulting huge investigation finds the \" xxmaj lee xxmaj harvey xxmaj oswald \" figure of this movie guilty , but one member of the jury insists in further inquiry . xxmaj he reveals some surprising evidence ... \n",
       " \n",
       "  xxmaj unlike xxmaj oliver xxmaj stone 's xxup jfk - a movie with the same plot - this one does not play with emotions , but concentrates in a exciting description of a conspiracy and how everything fits together , drawing a new picture of the assassination . xxmaj even a real psychological experiment is used for this explanation of the crime scene . xxmaj compared to xxup jfk this movie is more reasonable , intelligent and thrilling . xxmaj parts of the plot can be found in a lot of newer movies , i had a kind of deja vu sometimes sitting in the cinema . \n",
       " \n",
       "  \" i ... comme xxmaj xxunk \" is a \" must see \" . xxmaj its unique and brilliant , and the music by xxmaj ennio xxmaj morricone is wonderful . xxmaj this movie deserves a very good ranking , if it was a xxmaj hollywood production it would be famous for sure . \n",
       " \n",
       " \n",
       "y: CategoryList\n",
       "pos,pos,pos,pos,pos\n",
       "Path: /notebooks/course-v3/nbs/dl1/data/imdb;\n",
       "\n",
       "Valid: LabelList (25000 items)\n",
       "x: TextList\n",
       "xxbos xxmaj the xxmaj gilmore girls is about a mother who had a daughter when she was 16 . xxmaj now the daughter is 16 ( in season 1 ) and they live like sisters . xxmaj sharing everything , trusting each other completely . \n",
       " \n",
       "  i like xxmaj the xxmaj gilmore xxmaj girls but i am not sure why . xxmaj the mother , named xxmaj lorelai ( xxmaj lauren xxmaj graham ) , and the daughter , named xxmaj rory ( short for xxmaj lorelai , played by xxmaj alexis xxmaj bledel ) , are both very beautiful women , they are both funny and they are charming in their own ways . xxmaj there are some funny supporting characters , such as xxmaj luke ( xxmaj scott xxmaj patterson ) . xxmaj he and xxmaj lorelai like each , may be even love each other , but neither of them really acts on it . xxmaj they have their little moments . xxmaj there are some other supporting characters , most of them very funny , and with their won touching moments . \n",
       " \n",
       "  xxmaj what i like the most i think is to see the relationship between the young mother and the daughter who is becoming an adult . xxmaj the dialogue between them is quick , sharp , funny and sometimes touching as well . xxmaj the band they have is beautiful . xxmaj the xxmaj gilmore xxmaj girls makes you feel good so try it .,xxbos i have to say that some of the other reviews of this film i have read show very little understanding of it or the original xxup tv series it stemmed from . xxmaj dad 's xxmaj army was a sitcom and therefore had humour and so is bound to have put a smile on the face of the dire situation . xxmaj however the series carried very many serious messages such as the episode ' xxmaj branded ' about the bigotry and ignorance that was attached to conscientious objectors . xxmaj the film was faithful to the series and was simply like an extended episode . xxmaj so i 'm afraid the reviewer who claimed that xxmaj columbia improved the humour was quite wrong and let 's face it - the xxup bbc sitcoms of this period beat anything that came out of xxmaj america hands down . xxmaj also comments referring to propaganda were also way off the mark . xxmaj the xxmaj xxunk were people considered unfit for frontline service who still wished to serve . xxmaj they were very brave men who knew they were sentenced to death as soon as they signed up as xxmaj hitler announced that anyone who did so would be executed if and when xxmaj britain was invaded . xxmaj thank you for allowing me the opportunity to set the record straight as it is always good to actually speak and comment on what has been seen rather making it up as you go along i find .,xxbos xxup guts xxup of a xxup beauty is a bit better than its predecessor xxup guts xxup of a xxup virgin . xxmaj although this film is n't really a sequel in the sense that it has absolutely nothing to do with the first installment , i did find xxup beauty to be a little stronger and better put together all - the - way - around than xxup virgin ... but then again , that 's not really saying much . \n",
       " \n",
       "  xxup beauty starts off as a pretty rough and straight - faced exploit film . a couple of xxmaj yakuza cats are holding a young woman prisoner and begin gang raping her in pretty brutal fashion . xxmaj as this nastiness is going on , the head guy tells the girl that they did the same to her sister and sold her into slavery in xxmaj africa , and that they 're gon na do the same to her . xxmaj they then shoot her up with some drugs and rape her some more . xxmaj she somehow gets away and ends up at a clinic where the nurse there listens to her sob story . xxmaj the rapee ends up freaking out from the stress of her prior experience and commits suicide . xxmaj the clinic worker , moved by the young lady 's story , decides to take revenge on the gang by seducing one of the lower - level guys and trying to hypnotize him to make him kill the xxmaj yakuza leaders . xxmaj this whole plan backfires , so now xxmaj ms. xxmaj vigilante - xxmaj clinic - xxmaj worker gets exposed to much the same treatment that our original rapee got - only worse ( some pretty rough butt - rape ensues along with the pre - requisite gang rape ... ) . xxmaj she too is drugged , but the drug has a strange side effect on our seemingly hapless victim xxrep 5 - it turns her into a raging hermaphroditic xxup blood xxup demon ! ! ! ( no sh!t , that 's what really happens ! ! ! ) xxmaj this is when xxup beauty really takes off with some pretty f!cking insane kill scenes - including a very classy chest - burst - rape that looks like a cross between xxup alien and a bad porn , and my favorite - a head - engulfed - by - demon - vagina kill ( complete with demon vagina - slime ... xxunk has to be seen to be believed ... \n",
       " \n",
       "  xxmaj definitely some promising stuff going on in xxup guts xxup of a xxup beauty , but still very disjointed feeling . xxup beauty almost feels like two different films being forced together in a non - compatible way . xxmaj still , i have to give the film credit - the rape scenes are very rough and misogynistic , and the kill scenes are just totally off the wall . a solid 7 / 10 for another crazy j - horror \" classic \" .,xxbos xxmaj after seeing xxmaj big xxmaj fat xxmaj liar , i think xxmaj jason learned a lot more . xxmaj when he told the truth about xxmaj marty stealing his story , it was like the boy who cried wolf . xxmaj people heard him , but they did n't believe him . xxmaj nobody did anything to help him . xxmaj besides , not only xxmaj marty 's movies stink , so does his advice . xxmaj the truth is not overrated . i am so glad he got exposed for what he really is . xxmaj everyone found out that he stole from that boy , including his parents . xxmaj not only he stole from that boy and lied about it , he gave them someone else 's work and tried to call it his own , which is plagiarism . xxmaj does n't he know that it is illegal to plagiarize someone 's idea ? xxmaj another reason why he got fired . xxmaj he is not trustworthy . xxmaj he 's a liar , a cheat , a thief , a crook , and a plagiarist . xxmaj you got that xxmaj marty ? xxmaj you 're a plagiarist . xxmaj plus , you got everything that you deserved .,xxbos xxmaj big xxmaj fat xxmaj liar is what you get when you combine terrific writing , great production , and an emphasis on clever ideas over adolescent pap . xxmaj the two stars work great together , and -- what can i say ? xxmaj amanda xxmaj bynes shines . xxmaj putting \" xxmaj xxunk \" and xxmaj lee xxmaj majors in the film were brilliant touches . xxmaj watch this film with your kids . xxmaj if you do n't laugh throughout it , you must not have been paying attention .\n",
       "y: CategoryList\n",
       "pos,pos,pos,pos,pos\n",
       "Path: /notebooks/course-v3/nbs/dl1/data/imdb;\n",
       "\n",
       "Test: None, model=SequentialRNN(\n",
       "  (0): MultiBatchEncoder(\n",
       "    (module): AWD_LSTM(\n",
       "      (encoder): Embedding(60000, 400, padding_idx=1)\n",
       "      (encoder_dp): EmbeddingDropout(\n",
       "        (emb): Embedding(60000, 400, padding_idx=1)\n",
       "      )\n",
       "      (rnns): ModuleList(\n",
       "        (0): WeightDropout(\n",
       "          (module): LSTM(400, 1152, batch_first=True)\n",
       "        )\n",
       "        (1): WeightDropout(\n",
       "          (module): LSTM(1152, 1152, batch_first=True)\n",
       "        )\n",
       "        (2): WeightDropout(\n",
       "          (module): LSTM(1152, 400, batch_first=True)\n",
       "        )\n",
       "      )\n",
       "      (input_dp): RNNDropout()\n",
       "      (hidden_dps): ModuleList(\n",
       "        (0): RNNDropout()\n",
       "        (1): RNNDropout()\n",
       "        (2): RNNDropout()\n",
       "      )\n",
       "    )\n",
       "  )\n",
       "  (1): PoolingLinearClassifier(\n",
       "    (layers): Sequential(\n",
       "      (0): BatchNorm1d(1200, eps=1e-05, momentum=0.1, affine=True, track_running_stats=True)\n",
       "      (1): Dropout(p=0.2, inplace=False)\n",
       "      (2): Linear(in_features=1200, out_features=50, bias=True)\n",
       "      (3): ReLU(inplace=True)\n",
       "      (4): BatchNorm1d(50, eps=1e-05, momentum=0.1, affine=True, track_running_stats=True)\n",
       "      (5): Dropout(p=0.1, inplace=False)\n",
       "      (6): Linear(in_features=50, out_features=2, bias=True)\n",
       "    )\n",
       "  )\n",
       "), opt_func=functools.partial(<class 'torch.optim.adam.Adam'>, betas=(0.9, 0.99)), loss_func=FlattenedLoss of CrossEntropyLoss(), metrics=[<function accuracy at 0x7f4111135e18>], true_wd=True, bn_wd=True, wd=0.01, train_bn=True, path=PosixPath('/notebooks/course-v3/nbs/dl1/data/imdb'), model_dir='models', callback_fns=[functools.partial(<class 'fastai.basic_train.Recorder'>, add_time=True, silent=False)], callbacks=[...], layer_groups=[Sequential(\n",
       "  (0): Embedding(60000, 400, padding_idx=1)\n",
       "  (1): EmbeddingDropout(\n",
       "    (emb): Embedding(60000, 400, padding_idx=1)\n",
       "  )\n",
       "), Sequential(\n",
       "  (0): WeightDropout(\n",
       "    (module): LSTM(400, 1152, batch_first=True)\n",
       "  )\n",
       "  (1): RNNDropout()\n",
       "), Sequential(\n",
       "  (0): WeightDropout(\n",
       "    (module): LSTM(1152, 1152, batch_first=True)\n",
       "  )\n",
       "  (1): RNNDropout()\n",
       "), Sequential(\n",
       "  (0): WeightDropout(\n",
       "    (module): LSTM(1152, 400, batch_first=True)\n",
       "  )\n",
       "  (1): RNNDropout()\n",
       "), Sequential(\n",
       "  (0): PoolingLinearClassifier(\n",
       "    (layers): Sequential(\n",
       "      (0): BatchNorm1d(1200, eps=1e-05, momentum=0.1, affine=True, track_running_stats=True)\n",
       "      (1): Dropout(p=0.2, inplace=False)\n",
       "      (2): Linear(in_features=1200, out_features=50, bias=True)\n",
       "      (3): ReLU(inplace=True)\n",
       "      (4): BatchNorm1d(50, eps=1e-05, momentum=0.1, affine=True, track_running_stats=True)\n",
       "      (5): Dropout(p=0.1, inplace=False)\n",
       "      (6): Linear(in_features=50, out_features=2, bias=True)\n",
       "    )\n",
       "  )\n",
       ")], add_time=True, silent=False)\n",
       "alpha: 2.0\n",
       "beta: 1.0], layer_groups=[Sequential(\n",
       "  (0): Embedding(60000, 400, padding_idx=1)\n",
       "  (1): EmbeddingDropout(\n",
       "    (emb): Embedding(60000, 400, padding_idx=1)\n",
       "  )\n",
       "), Sequential(\n",
       "  (0): WeightDropout(\n",
       "    (module): LSTM(400, 1152, batch_first=True)\n",
       "  )\n",
       "  (1): RNNDropout()\n",
       "), Sequential(\n",
       "  (0): WeightDropout(\n",
       "    (module): LSTM(1152, 1152, batch_first=True)\n",
       "  )\n",
       "  (1): RNNDropout()\n",
       "), Sequential(\n",
       "  (0): WeightDropout(\n",
       "    (module): LSTM(1152, 400, batch_first=True)\n",
       "  )\n",
       "  (1): RNNDropout()\n",
       "), Sequential(\n",
       "  (0): PoolingLinearClassifier(\n",
       "    (layers): Sequential(\n",
       "      (0): BatchNorm1d(1200, eps=1e-05, momentum=0.1, affine=True, track_running_stats=True)\n",
       "      (1): Dropout(p=0.2, inplace=False)\n",
       "      (2): Linear(in_features=1200, out_features=50, bias=True)\n",
       "      (3): ReLU(inplace=True)\n",
       "      (4): BatchNorm1d(50, eps=1e-05, momentum=0.1, affine=True, track_running_stats=True)\n",
       "      (5): Dropout(p=0.1, inplace=False)\n",
       "      (6): Linear(in_features=50, out_features=2, bias=True)\n",
       "    )\n",
       "  )\n",
       ")], add_time=True, silent=False)"
      ]
     },
     "execution_count": 39,
     "metadata": {},
     "output_type": "execute_result"
    }
   ],
   "source": [
    "learn = text_classifier_learner(data_clas, AWD_LSTM, drop_mult=0.5)\n",
    "learn.load_encoder('fine_tuned_enc')"
   ]
  },
  {
   "cell_type": "code",
   "execution_count": 41,
   "metadata": {},
   "outputs": [
    {
     "data": {
      "text/html": [
       "\n",
       "    <div>\n",
       "        <style>\n",
       "            /* Turns off some styling */\n",
       "            progress {\n",
       "                /* gets rid of default border in Firefox and Opera. */\n",
       "                border: none;\n",
       "                /* Needs to be in here for Safari polyfill so background images work as expected. */\n",
       "                background-size: auto;\n",
       "            }\n",
       "            .progress-bar-interrupted, .progress-bar-interrupted::-webkit-progress-bar {\n",
       "                background: #F44336;\n",
       "            }\n",
       "        </style>\n",
       "      <progress value='0' class='' max='1', style='width:300px; height:20px; vertical-align: middle;'></progress>\n",
       "      0.00% [0/1 00:00<00:00]\n",
       "    </div>\n",
       "    \n",
       "<table border=\"1\" class=\"dataframe\">\n",
       "  <thead>\n",
       "    <tr style=\"text-align: left;\">\n",
       "      <th>epoch</th>\n",
       "      <th>train_loss</th>\n",
       "      <th>valid_loss</th>\n",
       "      <th>accuracy</th>\n",
       "      <th>time</th>\n",
       "    </tr>\n",
       "  </thead>\n",
       "  <tbody>\n",
       "  </tbody>\n",
       "</table><p>\n",
       "\n",
       "    <div>\n",
       "        <style>\n",
       "            /* Turns off some styling */\n",
       "            progress {\n",
       "                /* gets rid of default border in Firefox and Opera. */\n",
       "                border: none;\n",
       "                /* Needs to be in here for Safari polyfill so background images work as expected. */\n",
       "                background-size: auto;\n",
       "            }\n",
       "            .progress-bar-interrupted, .progress-bar-interrupted::-webkit-progress-bar {\n",
       "                background: #F44336;\n",
       "            }\n",
       "        </style>\n",
       "      <progress value='93' class='' max='520', style='width:300px; height:20px; vertical-align: middle;'></progress>\n",
       "      17.88% [93/520 00:56<04:21 1.3284]\n",
       "    </div>\n",
       "    "
      ],
      "text/plain": [
       "<IPython.core.display.HTML object>"
      ]
     },
     "metadata": {},
     "output_type": "display_data"
    },
    {
     "name": "stdout",
     "output_type": "stream",
     "text": [
      "LR Finder is complete, type {learner_name}.recorder.plot() to see the graph.\n"
     ]
    }
   ],
   "source": [
    "learn.lr_find()"
   ]
  },
  {
   "cell_type": "code",
   "execution_count": 42,
   "metadata": {},
   "outputs": [
    {
     "data": {
      "image/png": "[encoded data removed]",
      "text/plain": [
       "<Figure size 432x288 with 1 Axes>"
      ]
     },
     "metadata": {
      "needs_background": "light"
     },
     "output_type": "display_data"
    }
   ],
   "source": [
    "learn.recorder.plot()"
   ]
  },
  {
   "cell_type": "code",
   "execution_count": 43,
   "metadata": {},
   "outputs": [
    {
     "data": {
      "text/html": [
       "<table border=\"1\" class=\"dataframe\">\n",
       "  <thead>\n",
       "    <tr style=\"text-align: left;\">\n",
       "      <th>epoch</th>\n",
       "      <th>train_loss</th>\n",
       "      <th>valid_loss</th>\n",
       "      <th>accuracy</th>\n",
       "      <th>time</th>\n",
       "    </tr>\n",
       "  </thead>\n",
       "  <tbody>\n",
       "    <tr>\n",
       "      <td>0</td>\n",
       "      <td>0.346143</td>\n",
       "      <td>0.278849</td>\n",
       "      <td>0.887640</td>\n",
       "      <td>06:34</td>\n",
       "    </tr>\n",
       "  </tbody>\n",
       "</table>"
      ],
      "text/plain": [
       "<IPython.core.display.HTML object>"
      ]
     },
     "metadata": {},
     "output_type": "display_data"
    }
   ],
   "source": [
    "learn.fit_one_cycle(1, 1e-2, moms=(0.8,0.7))"
   ]
  },
  {
   "cell_type": "code",
   "execution_count": 44,
   "metadata": {},
   "outputs": [],
   "source": [
    "learn.save('first')"
   ]
  },
  {
   "cell_type": "code",
   "execution_count": 45,
   "metadata": {},
   "outputs": [],
   "source": [
    "learn.load('first');"
   ]
  },
  {
   "cell_type": "code",
   "execution_count": 46,
   "metadata": {},
   "outputs": [
    {
     "data": {
      "text/html": [
       "<table border=\"1\" class=\"dataframe\">\n",
       "  <thead>\n",
       "    <tr style=\"text-align: left;\">\n",
       "      <th>epoch</th>\n",
       "      <th>train_loss</th>\n",
       "      <th>valid_loss</th>\n",
       "      <th>accuracy</th>\n",
       "      <th>time</th>\n",
       "    </tr>\n",
       "  </thead>\n",
       "  <tbody>\n",
       "    <tr>\n",
       "      <td>0</td>\n",
       "      <td>0.286302</td>\n",
       "      <td>0.230722</td>\n",
       "      <td>0.911120</td>\n",
       "      <td>06:17</td>\n",
       "    </tr>\n",
       "  </tbody>\n",
       "</table>"
      ],
      "text/plain": [
       "<IPython.core.display.HTML object>"
      ]
     },
     "metadata": {},
     "output_type": "display_data"
    }
   ],
   "source": [
    "learn.freeze_to(-2)\n",
    "learn.fit_one_cycle(1, slice(1e-2/(2.6**4),1e-2), moms=(0.8,0.7))"
   ]
  },
  {
   "cell_type": "code",
   "execution_count": 47,
   "metadata": {},
   "outputs": [
    {
     "data": {
      "text/plain": [
       "(Category pos, tensor(1), tensor([1.2949e-05, 9.9999e-01]))"
      ]
     },
     "execution_count": 47,
     "metadata": {},
     "output_type": "execute_result"
    }
   ],
   "source": [
    "learn.predict(\"I really loved that movie, it was awesome!\")"
   ]
  }
 ],
 "metadata": {
  "kernelspec": {
   "display_name": "Python 3",
   "language": "python",
   "name": "python3"
  },
  "language_info": {
   "codemirror_mode": {
    "name": "ipython",
    "version": 3
   },
   "file_extension": ".py",
   "mimetype": "text/x-python",
   "name": "python",
   "nbconvert_exporter": "python",
   "pygments_lexer": "ipython3",
   "version": "3.6.7"
  }
 },
 "nbformat": 4,
 "nbformat_minor": 2
}
